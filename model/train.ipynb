{
 "cells": [
  {
   "cell_type": "code",
   "execution_count": 2,
   "metadata": {},
   "outputs": [],
   "source": [
    "import pandas as pd\n",
    "import numpy as np\n",
    "from sklearn.preprocessing import LabelEncoder, MinMaxScaler\n",
    "from sklearn import preprocessing\n",
    "from sklearn import tree\n",
    "from typing import List\n",
    "from sklearn.preprocessing import OneHotEncoder\n",
    "from sklearn.model_selection import train_test_split\n",
    "from matplotlib import pyplot as plt"
   ]
  },
  {
   "cell_type": "code",
   "execution_count": 3,
   "metadata": {},
   "outputs": [
    {
     "data": {
      "text/html": [
       "<div>\n",
       "<style scoped>\n",
       "    .dataframe tbody tr th:only-of-type {\n",
       "        vertical-align: middle;\n",
       "    }\n",
       "\n",
       "    .dataframe tbody tr th {\n",
       "        vertical-align: top;\n",
       "    }\n",
       "\n",
       "    .dataframe thead th {\n",
       "        text-align: right;\n",
       "    }\n",
       "</style>\n",
       "<table border=\"1\" class=\"dataframe\">\n",
       "  <thead>\n",
       "    <tr style=\"text-align: right;\">\n",
       "      <th></th>\n",
       "      <th>Donor 1 tahun terakhir</th>\n",
       "      <th>frekuensi donor per tahun</th>\n",
       "      <th>aktif</th>\n",
       "    </tr>\n",
       "  </thead>\n",
       "  <tbody>\n",
       "    <tr>\n",
       "      <th>0</th>\n",
       "      <td>0</td>\n",
       "      <td>112</td>\n",
       "      <td>0</td>\n",
       "    </tr>\n",
       "    <tr>\n",
       "      <th>1</th>\n",
       "      <td>120</td>\n",
       "      <td>0</td>\n",
       "      <td>0</td>\n",
       "    </tr>\n",
       "    <tr>\n",
       "      <th>2</th>\n",
       "      <td>133</td>\n",
       "      <td>1</td>\n",
       "      <td>0</td>\n",
       "    </tr>\n",
       "    <tr>\n",
       "      <th>3</th>\n",
       "      <td>10</td>\n",
       "      <td>100</td>\n",
       "      <td>1</td>\n",
       "    </tr>\n",
       "    <tr>\n",
       "      <th>4</th>\n",
       "      <td>23</td>\n",
       "      <td>0</td>\n",
       "      <td>0</td>\n",
       "    </tr>\n",
       "  </tbody>\n",
       "</table>\n",
       "</div>"
      ],
      "text/plain": [
       "   Donor 1 tahun terakhir  frekuensi donor per tahun  aktif\n",
       "0                       0                        112      0\n",
       "1                     120                          0      0\n",
       "2                     133                          1      0\n",
       "3                      10                        100      1\n",
       "4                      23                          0      0"
      ]
     },
     "execution_count": 3,
     "metadata": {},
     "output_type": "execute_result"
    }
   ],
   "source": [
    "data = [\n",
    "    [0,112,0],\n",
    "    [120,0,0],\n",
    "    [133,1,0],\n",
    "    [10,100,1],\n",
    "    [23,0,0],\n",
    "    [15,100,1],\n",
    "    [3,100,1],\n",
    "    [0,100,0],\n",
    "    [0,200,0],\n",
    "    [1,50,0],\n",
    "    [1,100,1],\n",
    "    [5,99,0],\n",
    "    [0,90,0],\n",
    "    [1,79,0],\n",
    "    [1,99,0],\n",
    "    [3,90,0],\n",
    "    [3,95,0],\n",
    "    [1,100,1],\n",
    "    [5,90,0],\n",
    "    [15,25,0],\n",
    "    [1,102,1],\n",
    "    [1,50,0]\n",
    "    ]\n",
    "real_df = pd.DataFrame(data,columns=[\"Donor 1 tahun terakhir\", \"frekuensi donor per tahun\",\"aktif\"])\n",
    "real_df.head()"
   ]
  },
  {
   "cell_type": "code",
   "execution_count": 4,
   "metadata": {},
   "outputs": [],
   "source": [
    "def preprocessing(df:pd.DataFrame,categorical_columns:List[str],scaling:bool, test_size:float, unused_columns:List[str], label:str):\n",
    "  df.dropna() # drop row bila salah 1 atau lebih ada NaN\n",
    "  # df.dropna(subset=[1]) # drop row bila column 1 NaN\n",
    "\n",
    "  if len(categorical_columns) > 0:\n",
    "    df = pd.get_dummies(data=df,columns=categorical_columns)\n",
    "  # for column in df.columns:\n",
    "  #   le = LabelEncoder()\n",
    "  #   le.fit(df[column])\n",
    "  #   df[column] = le.transform(df[column])\n",
    "  \n",
    "  # harus displit dulu antara features dan label, karena bila di minmax scalling dulu\n",
    "  # nama kolom akan hilang, berubah menjadi array 2d\n",
    "  unused_columns.append(label) # hapus kolom data column dan juga label\n",
    "  X = df.drop(columns=unused_columns) \n",
    "  print(X)\n",
    "  Y = df[label]\n",
    "  Y = np.array(Y).reshape((-1,1))\n",
    "  if scaling:\n",
    "    print(\"scaling\")\n",
    "    print(\"scaling\")\n",
    "    print(\"scaling\")\n",
    "    scaler = MinMaxScaler()\n",
    "    scaler.fit(X)\n",
    "    X = scaler.transform(X)\n",
    "\n",
    "    scaler = MinMaxScaler()\n",
    "    scaler.fit(Y)\n",
    "    Y = scaler.transform(Y)\n",
    "\n",
    "  # always produce the same result (only random once)\n",
    "  x_train, x_test = train_test_split(X, test_size=test_size, random_state=25)\n",
    "  y_train, y_test = train_test_split(Y, test_size=test_size, random_state=25)\n",
    "\n",
    " # convert to np arrays\n",
    "  x_train = np.array(x_train)\n",
    "  y_train = np.array(y_train).reshape((-1,1))\n",
    "  x_test  = np.array(x_test)\n",
    "  y_test  = np.array(y_test).reshape((-1,1))\n",
    "  \n",
    "  return x_train, y_train, x_test, y_test"
   ]
  },
  {
   "cell_type": "code",
   "execution_count": 5,
   "metadata": {},
   "outputs": [
    {
     "data": {
      "text/html": [
       "<div>\n",
       "<style scoped>\n",
       "    .dataframe tbody tr th:only-of-type {\n",
       "        vertical-align: middle;\n",
       "    }\n",
       "\n",
       "    .dataframe tbody tr th {\n",
       "        vertical-align: top;\n",
       "    }\n",
       "\n",
       "    .dataframe thead th {\n",
       "        text-align: right;\n",
       "    }\n",
       "</style>\n",
       "<table border=\"1\" class=\"dataframe\">\n",
       "  <thead>\n",
       "    <tr style=\"text-align: right;\">\n",
       "      <th></th>\n",
       "      <th>Donor 1 tahun terakhir</th>\n",
       "      <th>frekuensi donor per tahun</th>\n",
       "      <th>aktif</th>\n",
       "    </tr>\n",
       "  </thead>\n",
       "  <tbody>\n",
       "    <tr>\n",
       "      <th>0</th>\n",
       "      <td>0</td>\n",
       "      <td>112</td>\n",
       "      <td>0</td>\n",
       "    </tr>\n",
       "    <tr>\n",
       "      <th>1</th>\n",
       "      <td>120</td>\n",
       "      <td>0</td>\n",
       "      <td>0</td>\n",
       "    </tr>\n",
       "    <tr>\n",
       "      <th>2</th>\n",
       "      <td>133</td>\n",
       "      <td>1</td>\n",
       "      <td>0</td>\n",
       "    </tr>\n",
       "    <tr>\n",
       "      <th>3</th>\n",
       "      <td>10</td>\n",
       "      <td>100</td>\n",
       "      <td>1</td>\n",
       "    </tr>\n",
       "    <tr>\n",
       "      <th>4</th>\n",
       "      <td>23</td>\n",
       "      <td>0</td>\n",
       "      <td>0</td>\n",
       "    </tr>\n",
       "  </tbody>\n",
       "</table>\n",
       "</div>"
      ],
      "text/plain": [
       "   Donor 1 tahun terakhir  frekuensi donor per tahun  aktif\n",
       "0                       0                        112      0\n",
       "1                     120                          0      0\n",
       "2                     133                          1      0\n",
       "3                      10                        100      1\n",
       "4                      23                          0      0"
      ]
     },
     "execution_count": 5,
     "metadata": {},
     "output_type": "execute_result"
    }
   ],
   "source": [
    "real_df.head()"
   ]
  },
  {
   "cell_type": "code",
   "execution_count": 6,
   "metadata": {},
   "outputs": [
    {
     "name": "stdout",
     "output_type": "stream",
     "text": [
      "    Donor 1 tahun terakhir  frekuensi donor per tahun\n",
      "0                        0                        112\n",
      "1                      120                          0\n",
      "2                      133                          1\n",
      "3                       10                        100\n",
      "4                       23                          0\n",
      "5                       15                        100\n",
      "6                        3                        100\n",
      "7                        0                        100\n",
      "8                        0                        200\n",
      "9                        1                         50\n",
      "10                       1                        100\n",
      "11                       5                         99\n",
      "12                       0                         90\n",
      "13                       1                         79\n",
      "14                       1                         99\n",
      "15                       3                         90\n",
      "16                       3                         95\n",
      "17                       1                        100\n",
      "18                       5                         90\n",
      "19                      15                         25\n",
      "20                       1                        102\n",
      "21                       1                         50\n"
     ]
    }
   ],
   "source": [
    "x_train, y_train, x_test, y_test = preprocessing(real_df,\n",
    "                                                 scaling=False,test_size=0.2,\n",
    "                                                 categorical_columns=[],\n",
    "                                                  unused_columns=[],\n",
    "                                                 label=\"aktif\")"
   ]
  },
  {
   "cell_type": "code",
   "execution_count": 7,
   "metadata": {},
   "outputs": [
    {
     "data": {
      "text/plain": [
       "array([[  1,  99],\n",
       "       [  1, 102],\n",
       "       [  1, 100],\n",
       "       [  1, 100],\n",
       "       [ 10, 100],\n",
       "       [  0, 100],\n",
       "       [120,   0],\n",
       "       [ 15, 100],\n",
       "       [  3,  95],\n",
       "       [  1,  79],\n",
       "       [  1,  50],\n",
       "       [  1,  50],\n",
       "       [  0, 200],\n",
       "       [  5,  90],\n",
       "       [  0,  90],\n",
       "       [  3,  90],\n",
       "       [ 23,   0]], dtype=int64)"
      ]
     },
     "execution_count": 7,
     "metadata": {},
     "output_type": "execute_result"
    }
   ],
   "source": [
    "x_train"
   ]
  },
  {
   "cell_type": "code",
   "execution_count": 8,
   "metadata": {},
   "outputs": [
    {
     "data": {
      "text/plain": [
       "array([[0],\n",
       "       [1],\n",
       "       [1],\n",
       "       [1],\n",
       "       [1],\n",
       "       [0],\n",
       "       [0],\n",
       "       [1],\n",
       "       [0],\n",
       "       [0],\n",
       "       [0],\n",
       "       [0],\n",
       "       [0],\n",
       "       [0],\n",
       "       [0],\n",
       "       [0],\n",
       "       [0]], dtype=int64)"
      ]
     },
     "execution_count": 8,
     "metadata": {},
     "output_type": "execute_result"
    }
   ],
   "source": [
    "y_train"
   ]
  },
  {
   "cell_type": "code",
   "execution_count": 9,
   "metadata": {},
   "outputs": [
    {
     "data": {
      "text/plain": [
       "DecisionTreeRegressor()"
      ]
     },
     "execution_count": 9,
     "metadata": {},
     "output_type": "execute_result"
    }
   ],
   "source": [
    "from sklearn import tree\n",
    "model = tree.DecisionTreeRegressor()\n",
    "model.fit(x_train, y_train)"
   ]
  },
  {
   "cell_type": "code",
   "execution_count": 10,
   "metadata": {},
   "outputs": [
    {
     "data": {
      "text/plain": [
       "array([0.])"
      ]
     },
     "execution_count": 10,
     "metadata": {},
     "output_type": "execute_result"
    }
   ],
   "source": [
    "model.predict([[1,55]])"
   ]
  },
  {
   "cell_type": "code",
   "execution_count": 11,
   "metadata": {},
   "outputs": [
    {
     "data": {
      "text/plain": [
       "'decision_tree_graphivz.png'"
      ]
     },
     "execution_count": 11,
     "metadata": {},
     "output_type": "execute_result"
    }
   ],
   "source": [
    "# fig = plt.figure(figsize=(25,20))\n",
    "# _ = tree.plot_tree(model, \n",
    "#                    feature_names=[\"Donor 1 tahun terakhir\",\"Jumlah hari terakhir donor\", \"frekuensi donor per tahun\"],  \n",
    "#                    class_names=[\"aktif\"],\n",
    "#                    filled=True)\n",
    "\n",
    "import graphviz\n",
    "# DOT data\n",
    "dot_data = tree.export_graphviz(model, out_file=None, \n",
    "                                feature_names=[\"Donor 1 tahun terakhir\", \"frekuensi donor per tahun\"],  \n",
    "                                class_names=[\"aktif\"],\n",
    "                                filled=True)\n",
    "\n",
    "# Draw graph\n",
    "graph = graphviz.Source(dot_data, format=\"png\") \n",
    "graph.render(\"decision_tree_graphivz\")"
   ]
  },
  {
   "cell_type": "code",
   "execution_count": 12,
   "metadata": {},
   "outputs": [],
   "source": [
    "import pickle\n",
    "pickle.dump(model, open(\"model\", 'wb'))"
   ]
  }
 ],
 "metadata": {
  "interpreter": {
   "hash": "0c16b67fc1873d73f841e51ff77d39a9e5d0f26a56c9cab8bb519b65b48447bd"
  },
  "kernelspec": {
   "display_name": "Python 3.8.8 ('base')",
   "language": "python",
   "name": "python3"
  },
  "language_info": {
   "codemirror_mode": {
    "name": "ipython",
    "version": 3
   },
   "file_extension": ".py",
   "mimetype": "text/x-python",
   "name": "python",
   "nbconvert_exporter": "python",
   "pygments_lexer": "ipython3",
   "version": "3.8.8"
  },
  "orig_nbformat": 4
 },
 "nbformat": 4,
 "nbformat_minor": 2
}
